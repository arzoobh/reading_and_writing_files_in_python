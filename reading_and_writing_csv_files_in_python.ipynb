{
 "cells": [
  {
   "cell_type": "markdown",
   "metadata": {},
   "source": [
    "Here, we are reading and writing files in python without making use of any python library. In the preceeding lessons we will learn to read and write files in python with the use of python most popular libraries like pandas"
   ]
  },
  {
   "cell_type": "markdown",
   "metadata": {},
   "source": [
    "We will only be using the demo_data.csv file for this task. This csv file is demo data solely prepared for this task. Any resemblance of the people in this file is purely a coincidence."
   ]
  },
  {
   "cell_type": "markdown",
   "metadata": {},
   "source": [
    "Without the use of any library, the output is returned as it is without making use of any dataframe"
   ]
  },
  {
   "cell_type": "code",
   "execution_count": 1,
   "metadata": {},
   "outputs": [],
   "source": [
    "#this line of code creates a file object which should be the first step in working with any file directly from your \n",
    "#local machine\n",
    "f = open('demo_data.csv', 'r')"
   ]
  },
  {
   "cell_type": "markdown",
   "metadata": {},
   "source": [
    "The 'r' used in the above line of code open the file in the read-only mode. If we want to make changes to the file, we should open it in write-only mode using 'w' instead of 'r'.\n",
    "f= open('demo_data.csv', 'w')"
   ]
  },
  {
   "cell_type": "code",
   "execution_count": 7,
   "metadata": {},
   "outputs": [
    {
     "data": {
      "text/plain": [
       "''"
      ]
     },
     "execution_count": 7,
     "metadata": {},
     "output_type": "execute_result"
    }
   ],
   "source": [
    "f.read()"
   ]
  },
  {
   "cell_type": "code",
   "execution_count": 8,
   "metadata": {
    "scrolled": true
   },
   "outputs": [
    {
     "data": {
      "text/plain": [
       "''"
      ]
     },
     "execution_count": 8,
     "metadata": {},
     "output_type": "execute_result"
    }
   ],
   "source": [
    "#if we run f.read() command again, we will not get any output because our pointer is now at the end of our file and there\n",
    "#is now nothing left to read\n",
    "f.read()"
   ]
  },
  {
   "cell_type": "code",
   "execution_count": 9,
   "metadata": {},
   "outputs": [],
   "source": [
    "f = open('demo_data.csv', 'r')\n",
    "data =f.read()"
   ]
  },
  {
   "cell_type": "code",
   "execution_count": 10,
   "metadata": {},
   "outputs": [
    {
     "data": {
      "text/plain": [
       "str"
      ]
     },
     "execution_count": 10,
     "metadata": {},
     "output_type": "execute_result"
    }
   ],
   "source": [
    "type(data)"
   ]
  },
  {
   "cell_type": "code",
   "execution_count": 11,
   "metadata": {},
   "outputs": [
    {
     "name": "stdout",
     "output_type": "stream",
     "text": [
      "first_name,last_name,age,country,salary\n",
      "\n",
      "henry,hatch,35,usa,35000\n",
      "\n",
      "jimmy,jason,56,usa,42000\n",
      "\n",
      "nigel,joseph,61,uk,20000\n",
      "\n",
      "cherry,choo,42,china,68000\n",
      "\n",
      "valerie,valdata,55,canada,77000\n",
      "\n"
     ]
    }
   ],
   "source": [
    "f = open('demo_data.csv', 'r')\n",
    "\n",
    "for line in f:\n",
    "    print(line)"
   ]
  },
  {
   "cell_type": "markdown",
   "metadata": {},
   "source": [
    "using for loop to read the data, we have more clear understanding of what the data is about."
   ]
  },
  {
   "cell_type": "markdown",
   "metadata": {},
   "source": [
    "We rundown through the data line by line from top to the bottom. And once we are done reading the file our pointer stays at the last line of the line that we are reading. Hence when we print line now, we will get our last line from our demo file as the output"
   ]
  },
  {
   "cell_type": "code",
   "execution_count": 12,
   "metadata": {},
   "outputs": [
    {
     "data": {
      "text/plain": [
       "'valerie,valdata,55,canada,77000\\n'"
      ]
     },
     "execution_count": 12,
     "metadata": {},
     "output_type": "execute_result"
    }
   ],
   "source": [
    "line"
   ]
  },
  {
   "cell_type": "code",
   "execution_count": 13,
   "metadata": {},
   "outputs": [],
   "source": [
    "#if you look at the output above, you will notice \\n character towards the end of our output. we can get rid of this\n",
    "#character using following line of code:\n",
    "line = line.strip()"
   ]
  },
  {
   "cell_type": "code",
   "execution_count": 14,
   "metadata": {},
   "outputs": [
    {
     "data": {
      "text/plain": [
       "'valerie,valdata,55,canada,77000'"
      ]
     },
     "execution_count": 14,
     "metadata": {},
     "output_type": "execute_result"
    }
   ],
   "source": [
    "#now when you print line again, you will not see the \\n character anymore\n",
    "line"
   ]
  },
  {
   "cell_type": "code",
   "execution_count": null,
   "metadata": {},
   "outputs": [],
   "source": []
  }
 ],
 "metadata": {
  "kernelspec": {
   "display_name": "Python 3",
   "language": "python",
   "name": "python3"
  },
  "language_info": {
   "codemirror_mode": {
    "name": "ipython",
    "version": 3
   },
   "file_extension": ".py",
   "mimetype": "text/x-python",
   "name": "python",
   "nbconvert_exporter": "python",
   "pygments_lexer": "ipython3",
   "version": "3.7.4"
  }
 },
 "nbformat": 4,
 "nbformat_minor": 2
}
